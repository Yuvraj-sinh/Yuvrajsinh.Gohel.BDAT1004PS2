{
 "cells": [
  {
   "cell_type": "markdown",
   "id": "6888a657",
   "metadata": {},
   "source": [
    "# QUESTION 1 \n"
   ]
  },
  {
   "cell_type": "code",
   "execution_count": 1,
   "id": "67f7190c",
   "metadata": {},
   "outputs": [],
   "source": [
    "a = 0\n",
    "def b():\n",
    " global a\n",
    " a = c(a)\n",
    "def c(a):\n",
    " return a + 2\n"
   ]
  },
  {
   "cell_type": "code",
   "execution_count": 2,
   "id": "f10728d7",
   "metadata": {},
   "outputs": [
    {
     "data": {
      "text/plain": [
       "6"
      ]
     },
     "execution_count": 2,
     "metadata": {},
     "output_type": "execute_result"
    }
   ],
   "source": [
    "b()\n",
    "b()\n",
    "b()\n",
    "a"
   ]
  },
  {
   "cell_type": "markdown",
   "id": "e588802a",
   "metadata": {},
   "source": [
    "# EXPLANATION \n",
    "so first we have the value a is 0,and global a give us information that a is global variable and define outisde the function\n",
    "now when we define b() it assign the value of c(a) to a and def c(a) take that argument and return value of \" a \" increase by 2\n",
    "\n",
    "\n",
    "\n",
    "now when we define first b() it take value of a = 0 then when have global variable a=c(0) then it return after that we have \n",
    "of a increased by 2 \n",
    "after puting one more time b() agin it take a=2 and give us c(2) and end of that we have a increased by 2which will be 4 now for \n",
    "the value of global a.by keep continuning this we have value of a is \"6\""
   ]
  },
  {
   "cell_type": "code",
   "execution_count": null,
   "id": "dcfdbd49",
   "metadata": {},
   "outputs": [],
   "source": []
  },
  {
   "cell_type": "markdown",
   "id": "a3d1416e",
   "metadata": {},
   "source": [
    "# QUESTION 2"
   ]
  },
  {
   "cell_type": "code",
   "execution_count": 32,
   "id": "b66425e6",
   "metadata": {},
   "outputs": [],
   "source": [
    "def fileLength(name):\n",
    "    try:\n",
    "        file = open(name)\n",
    "        contents = file.read()\n",
    "        print(len(contents))\n",
    "    except FileNotFoundError:   # it will print this error message if file is not find through the directory\n",
    "         print(f\"ERROR: HELLO DEAR THE FILE YOU LOOKING FOR IS NOT FOUND,SORRY\")\n",
    "    except:                     # it will print error when therer is another error\n",
    "        print(\"ERROR:FILE IS NOT FOUND IN THIS SYSTEAM\")\n",
    "    else:                       # or it will close the file \n",
    "        file.close()\n",
    "\n",
    "\n",
    "\n"
   ]
  },
  {
   "cell_type": "code",
   "execution_count": 88,
   "id": "d3e3eac8",
   "metadata": {},
   "outputs": [
    {
     "name": "stdout",
     "output_type": "stream",
     "text": [
      "ERROR: HELLO DEAR THE FILE YOU LOOKING FOR IS NOT FOUND,SORRY\n",
      "ERROR: HELLO DEAR THE FILE YOU LOOKING FOR IS NOT FOUND,SORRY\n"
     ]
    }
   ],
   "source": [
    "# some exaples\n",
    "fileLength(\"example.txt\")\n",
    "fileLength(\"bloodtype1.txt\")\n"
   ]
  },
  {
   "cell_type": "markdown",
   "id": "da6396c2",
   "metadata": {},
   "source": [
    "# QUESTION 3"
   ]
  },
  {
   "cell_type": "code",
   "execution_count": 115,
   "id": "93e1ecd9",
   "metadata": {},
   "outputs": [],
   "source": [
    "class Marsupial:   # we have created class called Masupial \n",
    "    def __init__(self):  # and define an objcet by using init \n",
    "        self.pouch = []   # created an empty list to store our results \n",
    "\n",
    "    def put_in_pouch(self, item):   # we use pu_it_poch commanad to add iteams in our list called self.pouch\n",
    "        self.pouch.append(item)\n",
    "\n",
    "    def pouch_contents(self):\n",
    "        return self.pouch\n",
    "\n",
    "\n",
    "\n",
    "    \n",
    "class Kangaroo:     # we have created subclass called kangaroo in our main class  Marsupial \n",
    "    \n",
    "    def __init__(self, x, y):     # we have created object in it which can have two parameters in it \n",
    "        self.marsupial = Marsupial()\n",
    "        self.x = x          # we allocate the variables with in the object \n",
    "        self.y = y\n",
    "\n",
    "    \n",
    "    \n",
    "    def put_in_pouch(self, item):\n",
    "        self.marsupial.put_in_pouch(item)    \n",
    "\n",
    "   \n",
    "\n",
    "    def pouch_contents(self):\n",
    "        return self.marsupial.pouch_contents()\n",
    "\n",
    "    \n",
    "    def jump(self, dx, dy):  # by using this command we have list of elements after some steps we want \n",
    "        self.x = self.x + dx\n",
    "        self.y = self.y + dy\n",
    "\n",
    "    \n",
    "    \n",
    "    def __str__(self):    \n",
    "        return f\"Kangaroo Element location is : ({self.x}, {self.y})\"\n",
    "\n",
    "\n",
    "\n",
    "\n"
   ]
  },
  {
   "cell_type": "code",
   "execution_count": 103,
   "id": "6fa357af",
   "metadata": {},
   "outputs": [
    {
     "name": "stdout",
     "output_type": "stream",
     "text": [
      "['Yuvraj', 'Gaurav', 'Meet']\n"
     ]
    }
   ],
   "source": [
    " Marsupial= Marsupial()\n",
    "Marsupial.put_in_pouch('Yuvraj')\n",
    "Marsupial.put_in_pouch('Gaurav')\n",
    "Marsupial.put_in_pouch('Meet')\n",
    "print( Marsupial.pouch_contents())\n"
   ]
  },
  {
   "cell_type": "code",
   "execution_count": 117,
   "id": "93632324",
   "metadata": {},
   "outputs": [
    {
     "name": "stdout",
     "output_type": "stream",
     "text": [
      "['Aarti', 'Yuvraj']\n",
      "Kangaroo Element location is : (1, 3)\n",
      "Kangaroo Element location is : (6, 11)\n"
     ]
    }
   ],
   "source": [
    "kangaroo = Kangaroo(1,3 )\n",
    "\n",
    "kangaroo.put_in_pouch(\"Aarti\")\n",
    "\n",
    "kangaroo.put_in_pouch(\"Yuvraj\")\n",
    "\n",
    "\n",
    "print(kangaroo.marsupial.pouch_contents())\n",
    "\n",
    "print(kangaroo)  #Kangaroo Element  location is : (4,2) Pouch contents: ['Aarati', 'Yuvraj']\n",
    "\n",
    "kangaroo.jump(3,2)\n",
    "kangaroo.jump(2,6)\n",
    "print(kangaroo)  #Kangaroo ElementLocation is : (5,6) Pouch contents: ['Aarati', 'Yuvraj']\n",
    "\n",
    "\n",
    "\n"
   ]
  },
  {
   "cell_type": "code",
   "execution_count": null,
   "id": "925ef328",
   "metadata": {},
   "outputs": [],
   "source": []
  },
  {
   "cell_type": "markdown",
   "id": "46aac38e",
   "metadata": {},
   "source": [
    "# QUESTION 4"
   ]
  },
  {
   "cell_type": "code",
   "execution_count": 34,
   "id": "ce028030",
   "metadata": {},
   "outputs": [],
   "source": [
    "def collatz(x):\n",
    "    def sequence(n): # we have define function called sequence \n",
    "        print(n)\n",
    "        if n == 1:  # it will return if value 1 or 0  if entered value is 1 or 0\n",
    "            return\n",
    "        elif n % 2 == 0:   # it will divided it to 2 if its even \n",
    "            sequence(n // 2)\n",
    "        else:\n",
    "            sequence(3 * n + 1) # else use this formula for the odd\n",
    "\n",
    "    sequence(x)\n",
    "\n"
   ]
  },
  {
   "cell_type": "code",
   "execution_count": 35,
   "id": "f976d56a",
   "metadata": {},
   "outputs": [
    {
     "name": "stdout",
     "output_type": "stream",
     "text": [
      "6\n",
      "3\n",
      "10\n",
      "5\n",
      "16\n",
      "8\n",
      "4\n",
      "2\n",
      "1\n"
     ]
    }
   ],
   "source": [
    "# some exaples \n",
    "collatz(6) \n"
   ]
  },
  {
   "cell_type": "code",
   "execution_count": 36,
   "id": "de85953c",
   "metadata": {},
   "outputs": [
    {
     "name": "stdout",
     "output_type": "stream",
     "text": [
      "5\n",
      "16\n",
      "8\n",
      "4\n",
      "2\n",
      "1\n"
     ]
    }
   ],
   "source": [
    "collatz(5)"
   ]
  },
  {
   "cell_type": "markdown",
   "id": "b11830f1",
   "metadata": {},
   "source": [
    "# QUESTION 5"
   ]
  },
  {
   "cell_type": "code",
   "execution_count": 37,
   "id": "6d6b3ad9",
   "metadata": {},
   "outputs": [],
   "source": [
    "def binaryversion(n):  # we have created function called binaryversion to create binary data \n",
    "    if n == 0:          # if input is o it will shows 0 same for 1 as well\n",
    "        return '0'\n",
    "    elif n == 1:\n",
    "        return '1'\n",
    "    else:\n",
    "        return binaryversion(n // 2) + str(n % 2) # or it divide that data by 2 and store that value to str till 0\n",
    "\n",
    "\n"
   ]
  },
  {
   "cell_type": "code",
   "execution_count": 68,
   "id": "cfd1e511",
   "metadata": {},
   "outputs": [
    {
     "name": "stdout",
     "output_type": "stream",
     "text": [
      "1011111\n",
      "110111\n"
     ]
    }
   ],
   "source": [
    "# Some Example\n",
    "\n",
    "\n",
    "result = binaryversion(95)\n",
    "print(result)\n",
    "\n",
    "result = binaryversion(55)\n",
    "print(result)"
   ]
  },
  {
   "cell_type": "markdown",
   "id": "6ecbaa4e",
   "metadata": {},
   "source": [
    "# QUESTION 6"
   ]
  },
  {
   "cell_type": "code",
   "execution_count": 87,
   "id": "c8047d83",
   "metadata": {},
   "outputs": [
    {
     "ename": "SyntaxError",
     "evalue": "incomplete input (2362963328.py, line 7)",
     "output_type": "error",
     "traceback": [
      "\u001b[1;36m  Cell \u001b[1;32mIn[87], line 7\u001b[1;36m\u001b[0m\n\u001b[1;33m    \u001b[0m\n\u001b[1;37m    ^\u001b[0m\n\u001b[1;31mSyntaxError\u001b[0m\u001b[1;31m:\u001b[0m incomplete input\n"
     ]
    }
   ],
   "source": [
    "from html.parser import HTMLParser  # we have used the html.parser libary of python \n",
    "\n",
    "\n",
    "class HeadingParser(HTMLParser):    # we have created subclass called HeadingParser in HtmlParser which store the heading found in HTMLParser\n",
    "    def __init__(self):\n",
    "        \n",
    "\n"
   ]
  },
  {
   "cell_type": "code",
   "execution_count": null,
   "id": "1297f6e7",
   "metadata": {},
   "outputs": [],
   "source": []
  },
  {
   "cell_type": "markdown",
   "id": "74d9962c",
   "metadata": {},
   "source": [
    "# QUESTION 7"
   ]
  },
  {
   "cell_type": "code",
   "execution_count": 84,
   "id": "e1bd41aa",
   "metadata": {},
   "outputs": [],
   "source": [
    "import requests\n",
    "import re\n",
    "\n",
    "def webdir(url, length, indent):  # we have created the function called webdir \n",
    "    if length == 0:   # it showas if length is 0 then it will stop recursion\n",
    "        return\n",
    "\n",
    "    "
   ]
  },
  {
   "cell_type": "code",
   "execution_count": 85,
   "id": "76f33bb3",
   "metadata": {},
   "outputs": [],
   "source": [
    "webdir('https://www.kaggle.com/datasets/hrfang1995/nba-salaries-by-players-of-season-2000-to-2019', 2, 0)"
   ]
  },
  {
   "cell_type": "markdown",
   "id": "a07a8c21",
   "metadata": {},
   "source": [
    "# QUESTION 8"
   ]
  },
  {
   "cell_type": "code",
   "execution_count": 72,
   "id": "842a8232",
   "metadata": {},
   "outputs": [],
   "source": [
    "# IN THIS PART OF QUESTION WE GONNA CREATE THE TABLE FIRST\n",
    "\n",
    "\n",
    "\n",
    "import sqlite3\n",
    "conn = sqlite3.connect('QUESTION8.db') # WE CREATE THE DATA BASE OR WE CAN CONNECT IT IF IT EXISTS\n",
    "cursor = conn.cursor()\n",
    "\n",
    "# HERE WE GONNA CREATE TABLE CALLED Season_table\n",
    "cursor.execute('''                \n",
    "    CREATE TABLE Season_table(\n",
    "        City VARCHAR(100),\n",
    "        Country VARCHAR(100),\n",
    "        Season VARCHAR(100),\n",
    "        Temperature FLOAT,\n",
    "        Rainfall FLOAT\n",
    "    )\n",
    "''')\n",
    "\n",
    "data = [\n",
    "    ('Mumbai', 'India', 'Winter', 24.8, 5.9),\n",
    "    ('Mumbai', 'India', 'Spring', 28.4, 16.2),\n",
    "    ('Mumbai', 'India', 'Summer', 27.9, 1549.4),\n",
    "    ('Mumbai', 'India', 'Fall', 27.6, 346.0),\n",
    "    ('London', 'United Kingdom', 'Winter', 4.2, 207.7),\n",
    "    ('London', 'United Kingdom', 'Spring', 8.3, 169.6),\n",
    "    ('London', 'United Kingdom', 'Summer', 15.7, 157.0),\n",
    "    ('London', 'United Kingdom', 'Fall', 10.4, 218.5),\n",
    "    ('Cairo', 'Egypt', 'Winter', 13.6, 16.5),\n",
    "    ('Cairo', 'Egypt', 'Spring', 20.7, 6.5),\n",
    "    ('Cairo', 'Egypt', 'Summer', 27.7, 0.1),\n",
    "    ('Cairo', 'Egypt', 'Fall', 22.2, 4.5)\n",
    "]                                    # HERE WE HAVE DESCRIBE THE DATA TOBE INSERTED IN TO TABLE WE HAVE A LIMIT THAT TO 100\n",
    "\n",
    "# NOW WE GOONA INPUT DATA INTO Season_table table \n",
    "cursor.executemany('''\n",
    "    INSERT INTO Season_table (City, Country, Season, Temperature, Rainfall)\n",
    "    VALUES (?, ?, ?, ?, ?)\n",
    "''', data)\n",
    "\n",
    "conn.commit()  # here we use command queries to use the table and make it close \n",
    "conn.close()\n"
   ]
  },
  {
   "cell_type": "code",
   "execution_count": 77,
   "id": "425eedc3",
   "metadata": {},
   "outputs": [
    {
     "name": "stdout",
     "output_type": "stream",
     "text": [
      "-----------------------------------------------------------------------------------------\n",
      "Temperature of givin Data:\n",
      "(24.8,)\n",
      "Temperature of givin Data:\n",
      "(28.4,)\n",
      "Temperature of givin Data:\n",
      "(27.9,)\n",
      "Temperature of givin Data:\n",
      "(27.6,)\n",
      "Temperature of givin Data:\n",
      "(4.2,)\n",
      "Temperature of givin Data:\n",
      "(8.3,)\n",
      "Temperature of givin Data:\n",
      "(15.7,)\n",
      "Temperature of givin Data:\n",
      "(10.4,)\n",
      "Temperature of givin Data:\n",
      "(13.6,)\n",
      "Temperature of givin Data:\n",
      "(20.7,)\n",
      "Temperature of givin Data:\n",
      "(27.7,)\n",
      "Temperature of givin Data:\n",
      "(22.2,)\n",
      "-----------------------------------------------------------------------------------------\n",
      "Records for India from the given data:\n",
      "('Mumbai', 'India', 'Winter', 24.8, 5.9)\n",
      "Records for India from the given data:\n",
      "('Mumbai', 'India', 'Spring', 28.4, 16.2)\n",
      "Records for India from the given data:\n",
      "('Mumbai', 'India', 'Summer', 27.9, 1549.4)\n",
      "Records for India from the given data:\n",
      "('Mumbai', 'India', 'Fall', 27.6, 346.0)\n",
      "-----------------------------------------------------------------------------------------\n",
      "Cities that are mentioned in data:\n",
      "('Mumbai',)\n",
      "Cities that are mentioned in data:\n",
      "('London',)\n",
      "Cities that are mentioned in data:\n",
      "('Cairo',)\n",
      "-----------------------------------------------------------------------------------------\n",
      "Fall Records from the givin data :\n",
      "('Mumbai', 'India', 'Fall', 27.6, 346.0)\n",
      "Fall Records from the givin data :\n",
      "('London', 'United Kingdom', 'Fall', 10.4, 218.5)\n",
      "Fall Records from the givin data :\n",
      "('Cairo', 'Egypt', 'Fall', 22.2, 4.5)\n",
      "-------------------------------------------------------------------------------------------------------------------------------\n",
      "Records with Average Rainfall between 200 and 400 millimeters from givin data:\n",
      "('London', 'United Kingdom', 'Fall')\n",
      "Records with Average Rainfall between 200 and 400 millimeters from givin data:\n",
      "('London', 'United Kingdom', 'Winter')\n",
      "Records with Average Rainfall between 200 and 400 millimeters from givin data:\n",
      "('Mumbai', 'India', 'Fall')\n",
      "------------------------------------------------------------------------------------------------------------------------------------------\n",
      "Records with Average Fall Temperature above 20 degrees, in increasing order for givin data:\n",
      "('Cairo', 'Egypt')\n",
      "Records with Average Fall Temperature above 20 degrees, in increasing order for givin data:\n",
      "('Mumbai', 'India')\n",
      "-----------------------------------------------------------------------------------------\n",
      "Total Rainfall for Each Season for givin data:\n",
      "('Fall', 569.0)\n",
      "Total Rainfall for Each Season for givin data:\n",
      "('Spring', 192.29999999999998)\n",
      "Total Rainfall for Each Season for givin data:\n",
      "('Summer', 1706.5)\n",
      "Total Rainfall for Each Season for givin data:\n",
      "('Winter', 230.1)\n",
      "-----------------------------------------------------------------------------------------\n",
      "Total Annual Rainfall for Cairo for givin data: [(27.6,)]\n"
     ]
    }
   ],
   "source": [
    "import sqlite3\n",
    "\n",
    "# BY THIS WE ARE CONNECTING THIS TO DATABASE \n",
    "conn = sqlite3.connect('QUESTION8.db')\n",
    "cursor = conn.cursor()\n",
    "\n",
    "# A) All THE TEMPURETURE DATA\n",
    "print(\"-----------------------------------------------------------------------------------------\")\n",
    "cursor.execute(\"SELECT Temperature FROM Season_table \")\n",
    "temp = cursor.fetchall()\n",
    "for temperature in temp:\n",
    "    print(\"Temperature of givin Data:\")\n",
    "    print(temperature)\n",
    "\n",
    "    \n",
    "\n",
    "# C)  All THE RECORDS OF INDIA \n",
    "print(\"-----------------------------------------------------------------------------------------\")\n",
    "cursor.execute(\"SELECT * FROM Season_table  WHERE Country = 'India'\")\n",
    "india_data = cursor.fetchall()\n",
    "for record in india_data:\n",
    "    print(\"Records for India from the given data:\")\n",
    "    print(record)\n",
    "\n",
    "# B)  All THE CITIES BUT WITHOUT REPETITION\n",
    "print(\"-----------------------------------------------------------------------------------------\")\n",
    "cursor.execute(\"SELECT DISTINCT City FROM Season_table \")\n",
    "city01 = cursor.fetchall()\n",
    "for city in city01:\n",
    "    print(\"Cities that are mentioned in data:\")\n",
    "    print(city)    \n",
    "    \n",
    "    \n",
    "# D)  All THE FALL RECORDS \n",
    "print(\"-----------------------------------------------------------------------------------------\")\n",
    "cursor.execute(\"SELECT * FROM Season_table  WHERE Season = 'Fall'\")\n",
    "fall_data = cursor.fetchall()\n",
    "for record in fall_data:\n",
    "    print(\"Fall Records from the givin data :\")\n",
    "    print(record)\n",
    "\n",
    "# E) The city, country, and season for which the average rainfall is between 200 and 400 millimeters\n",
    "print(\"-------------------------------------------------------------------------------------------------------------------------------\")\n",
    "cursor.execute(\"SELECT City, Country, Season FROM Season_table GROUP BY City, Country, Season HAVING AVG(Rainfall) BETWEEN 200 AND 400\")\n",
    "rainfall_data = cursor.fetchall()\n",
    "for record in rainfall_data:\n",
    "    print(\"Records with Average Rainfall between 200 and 400 millimeters from givin data:\")\n",
    "    print(record)\n",
    "\n",
    "# F) The CITY AND COUNTRY FOR which the average Fall temperature is above 20 degrees, in increasing temperature order\n",
    "print(\"------------------------------------------------------------------------------------------------------------------------------------------\")\n",
    "cursor.execute(\"SELECT City, Country FROM Season_table  WHERE Season = 'Fall' GROUP BY City, Country HAVING AVG(Temperature) > 20 ORDER BY AVG(Temperature) ASC\")\n",
    "average_tempdata = cursor.fetchall()\n",
    "for record in average_tempdata:\n",
    "    print(\"Records with Average Fall Temperature above 20 degrees, in increasing order for givin data:\")\n",
    "    print(record)\n",
    "\n",
    "# H) The TOTAL RAINFALL OF THE SEASON\n",
    "print(\"-----------------------------------------------------------------------------------------\")\n",
    "cursor.execute(\"SELECT Season, SUM(Rainfall) AS TotalRainfall FROM Season_table  GROUP BY Season\")\n",
    "seasonal_rainfall_data = cursor.fetchall()\n",
    "for record in seasonal_rainfall_data:\n",
    "    print(\"Total Rainfall for Each Season for givin data:\")\n",
    "    print(record)\n",
    "    \n",
    "# G) The TOTAL ANNUAL RAINFALL OF CIARO \n",
    "print(\"-----------------------------------------------------------------------------------------\")\n",
    "cursor.execute(\"SELECT SUM(Rainfall) AS TotalRainfall FROM Season_table  WHERE City = 'Cairo'\")\n",
    "cairo_annualrainfall_data = cursor.fetchall()\n",
    "print(\"Total Annual Rainfall for Cairo for givin data:\", cairo_annualrainfall_data)\n",
    "    \n",
    "conn.close() # it shows the closing of the connection\n"
   ]
  },
  {
   "cell_type": "markdown",
   "id": "87509016",
   "metadata": {},
   "source": [
    "# QUESTION 9"
   ]
  },
  {
   "cell_type": "code",
   "execution_count": 42,
   "id": "fc2ad9d7",
   "metadata": {},
   "outputs": [],
   "source": [
    "words = ['The', 'quick', 'brown', 'fox', 'jumps', 'over','the', 'lazy', 'dog']\n"
   ]
  },
  {
   "cell_type": "code",
   "execution_count": 50,
   "id": "9ffb3ec4",
   "metadata": {},
   "outputs": [],
   "source": [
    "# CONVERT ALL WORD IN TO UPPERCASE \n",
    "ANS_a = []\n",
    "for word in words:\n",
    "    ANS_a.append(word.upper())\n"
   ]
  },
  {
   "cell_type": "code",
   "execution_count": 52,
   "id": "9336abac",
   "metadata": {},
   "outputs": [],
   "source": [
    "# Convert all words to lowercase \n",
    "ANS_b = []\n",
    "for word in words:\n",
    "    ANS_b.append(word.lower())\n"
   ]
  },
  {
   "cell_type": "code",
   "execution_count": 54,
   "id": "d3771260",
   "metadata": {},
   "outputs": [],
   "source": [
    "# Get the lengths of words\n",
    "ANS_c = []\n",
    "for word in words:\n",
    "    ANS_c.append(len(word))\n"
   ]
  },
  {
   "cell_type": "code",
   "execution_count": 55,
   "id": "22988565",
   "metadata": {},
   "outputs": [],
   "source": [
    "# Create a list containing a sublist for each word, with the word in uppercase, lowercase, and its length\n",
    "\n",
    "ANS_d = []\n",
    "for word in words:\n",
    "    subsitutelist = [word.upper(), word.lower(), len(word)]\n",
    "    ANS_d.append(subsitutelist)\n",
    "\n"
   ]
  },
  {
   "cell_type": "code",
   "execution_count": 56,
   "id": "999bf91c",
   "metadata": {},
   "outputs": [],
   "source": [
    "# Filter words with 4 or more characters\n",
    "ANS_e = []\n",
    "for word in words:\n",
    "    if len(word) >= 4:\n",
    "        ANS_e.append(word)\n"
   ]
  },
  {
   "cell_type": "code",
   "execution_count": 79,
   "id": "7ca32866",
   "metadata": {},
   "outputs": [
    {
     "name": "stdout",
     "output_type": "stream",
     "text": [
      "['THE', 'QUICK', 'BROWN', 'FOX', 'JUMPS', 'OVER', 'THE', 'LAZY', 'DOG']\n",
      "------------------------------------------------------------------\n",
      "['the', 'quick', 'brown', 'fox', 'jumps', 'over', 'the', 'lazy', 'dog']\n",
      "------------------------------------------------------------------\n",
      "[3, 5, 5, 3, 5, 4, 3, 4, 3]\n",
      "------------------------------------------------------------------\n",
      "[['THE', 'the', 3], ['QUICK', 'quick', 5], ['BROWN', 'brown', 5], ['FOX', 'fox', 3], ['JUMPS', 'jumps', 5], ['OVER', 'over', 4], ['THE', 'the', 3], ['LAZY', 'lazy', 4], ['DOG', 'dog', 3]]\n",
      "------------------------------------------------------------------\n",
      "['quick', 'brown', 'jumps', 'over', 'lazy']\n"
     ]
    }
   ],
   "source": [
    "print(ANS_a)   \n",
    "print(\"------------------------------------------------------------------\")\n",
    "print(ANS_b)  \n",
    "print(\"------------------------------------------------------------------\")\n",
    "print(ANS_c)  \n",
    "print(\"------------------------------------------------------------------\")\n",
    "print(ANS_d)  \n",
    "print(\"------------------------------------------------------------------\")\n",
    "print(ANS_e)  \n"
   ]
  },
  {
   "cell_type": "code",
   "execution_count": null,
   "id": "6c742972",
   "metadata": {},
   "outputs": [],
   "source": []
  }
 ],
 "metadata": {
  "kernelspec": {
   "display_name": "Python 3 (ipykernel)",
   "language": "python",
   "name": "python3"
  },
  "language_info": {
   "codemirror_mode": {
    "name": "ipython",
    "version": 3
   },
   "file_extension": ".py",
   "mimetype": "text/x-python",
   "name": "python",
   "nbconvert_exporter": "python",
   "pygments_lexer": "ipython3",
   "version": "3.10.9"
  }
 },
 "nbformat": 4,
 "nbformat_minor": 5
}
